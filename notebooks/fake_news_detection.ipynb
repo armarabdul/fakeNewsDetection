{
 "cells": [
  {
   "cell_type": "code",
   "execution_count": 5,
   "id": "bee8d59c",
   "metadata": {},
   "outputs": [],
   "source": [
    "import pandas as pd\n",
    "import numpy as np\n",
    "import string\n",
    "from sklearn.model_selection import train_test_split\n",
    "from sklearn.feature_extraction.text import TfidfVectorizer\n",
    "from sklearn.linear_model import LogisticRegression\n",
    "from sklearn.metrics import classification_report, confusion_matrix, accuracy_score\n",
    "import joblib\n",
    "import re\n",
    "import string\n",
    "from nltk.corpus import stopwords\n",
    "from nltk.stem import WordNetLemmatizer"
   ]
  },
  {
   "cell_type": "code",
   "execution_count": 3,
   "id": "42837755",
   "metadata": {},
   "outputs": [
    {
     "data": {
      "text/html": [
       "<div>\n",
       "<style scoped>\n",
       "    .dataframe tbody tr th:only-of-type {\n",
       "        vertical-align: middle;\n",
       "    }\n",
       "\n",
       "    .dataframe tbody tr th {\n",
       "        vertical-align: top;\n",
       "    }\n",
       "\n",
       "    .dataframe thead th {\n",
       "        text-align: right;\n",
       "    }\n",
       "</style>\n",
       "<table border=\"1\" class=\"dataframe\">\n",
       "  <thead>\n",
       "    <tr style=\"text-align: right;\">\n",
       "      <th></th>\n",
       "      <th>title</th>\n",
       "      <th>text</th>\n",
       "      <th>subject</th>\n",
       "      <th>date</th>\n",
       "      <th>label</th>\n",
       "      <th>content</th>\n",
       "    </tr>\n",
       "  </thead>\n",
       "  <tbody>\n",
       "    <tr>\n",
       "      <th>0</th>\n",
       "      <td>Boiler Room EP #85.5 – Who’s Watching The Watc...</td>\n",
       "      <td>Tune in to the Alternate Current Radio Network...</td>\n",
       "      <td>US_News</td>\n",
       "      <td>November 30, 2016</td>\n",
       "      <td>0</td>\n",
       "      <td>Boiler Room EP #85.5 – Who’s Watching The Watc...</td>\n",
       "    </tr>\n",
       "    <tr>\n",
       "      <th>1</th>\n",
       "      <td>Australian senate rejects proposed visa, citiz...</td>\n",
       "      <td>SYDNEY (Reuters) - Australia s lawmakers have ...</td>\n",
       "      <td>worldnews</td>\n",
       "      <td>October 19, 2017</td>\n",
       "      <td>1</td>\n",
       "      <td>Australian senate rejects proposed visa, citiz...</td>\n",
       "    </tr>\n",
       "    <tr>\n",
       "      <th>2</th>\n",
       "      <td>Boiler Room EP #70 – Sticks, Stones &amp; The Medi...</td>\n",
       "      <td>Tune in to the Alternate Current Radio Network...</td>\n",
       "      <td>US_News</td>\n",
       "      <td>August 25, 2016</td>\n",
       "      <td>0</td>\n",
       "      <td>Boiler Room EP #70 – Sticks, Stones &amp; The Medi...</td>\n",
       "    </tr>\n",
       "    <tr>\n",
       "      <th>3</th>\n",
       "      <td>Charles Koch Does A Brutally Honest Interview...</td>\n",
       "      <td>Charles Koch sat down with ABC News and did an...</td>\n",
       "      <td>News</td>\n",
       "      <td>April 25, 2016</td>\n",
       "      <td>0</td>\n",
       "      <td>Charles Koch Does A Brutally Honest Interview...</td>\n",
       "    </tr>\n",
       "    <tr>\n",
       "      <th>4</th>\n",
       "      <td>LIBERAL LOSER Screams “This is my America!” Af...</td>\n",
       "      <td></td>\n",
       "      <td>left-news</td>\n",
       "      <td>Dec 19, 2016</td>\n",
       "      <td>0</td>\n",
       "      <td>LIBERAL LOSER Screams “This is my America!” Af...</td>\n",
       "    </tr>\n",
       "  </tbody>\n",
       "</table>\n",
       "</div>"
      ],
      "text/plain": [
       "                                               title  \\\n",
       "0  Boiler Room EP #85.5 – Who’s Watching The Watc...   \n",
       "1  Australian senate rejects proposed visa, citiz...   \n",
       "2  Boiler Room EP #70 – Sticks, Stones & The Medi...   \n",
       "3   Charles Koch Does A Brutally Honest Interview...   \n",
       "4  LIBERAL LOSER Screams “This is my America!” Af...   \n",
       "\n",
       "                                                text    subject  \\\n",
       "0  Tune in to the Alternate Current Radio Network...    US_News   \n",
       "1  SYDNEY (Reuters) - Australia s lawmakers have ...  worldnews   \n",
       "2  Tune in to the Alternate Current Radio Network...    US_News   \n",
       "3  Charles Koch sat down with ABC News and did an...       News   \n",
       "4                                                     left-news   \n",
       "\n",
       "                date  label                                            content  \n",
       "0  November 30, 2016      0  Boiler Room EP #85.5 – Who’s Watching The Watc...  \n",
       "1  October 19, 2017       1  Australian senate rejects proposed visa, citiz...  \n",
       "2    August 25, 2016      0  Boiler Room EP #70 – Sticks, Stones & The Medi...  \n",
       "3     April 25, 2016      0   Charles Koch Does A Brutally Honest Interview...  \n",
       "4       Dec 19, 2016      0  LIBERAL LOSER Screams “This is my America!” Af...  "
      ]
     },
     "execution_count": 3,
     "metadata": {},
     "output_type": "execute_result"
    }
   ],
   "source": [
    "# Load data\n",
    "true_df = pd.read_csv('../data/True.csv')\n",
    "fake_df = pd.read_csv('../data/Fake.csv')\n",
    "\n",
    "# Add label columns\n",
    "true_df['label'] = 1  # Real\n",
    "fake_df['label'] = 0  # Fake\n",
    "\n",
    "# Combine and shuffle\n",
    "df = pd.concat([true_df, fake_df], ignore_index=True)\n",
    "df = df.sample(frac=1).reset_index(drop=True)\n",
    "\n",
    "# Combine title + text (optional but useful)\n",
    "df['content'] = df['title'] + \" \" + df['text']\n",
    "\n",
    "df.head()\n"
   ]
  },
  {
   "cell_type": "code",
   "execution_count": 6,
   "id": "396059c3",
   "metadata": {},
   "outputs": [
    {
     "data": {
      "text/html": [
       "<div>\n",
       "<style scoped>\n",
       "    .dataframe tbody tr th:only-of-type {\n",
       "        vertical-align: middle;\n",
       "    }\n",
       "\n",
       "    .dataframe tbody tr th {\n",
       "        vertical-align: top;\n",
       "    }\n",
       "\n",
       "    .dataframe thead th {\n",
       "        text-align: right;\n",
       "    }\n",
       "</style>\n",
       "<table border=\"1\" class=\"dataframe\">\n",
       "  <thead>\n",
       "    <tr style=\"text-align: right;\">\n",
       "      <th></th>\n",
       "      <th>cleaned_content</th>\n",
       "      <th>label</th>\n",
       "    </tr>\n",
       "  </thead>\n",
       "  <tbody>\n",
       "    <tr>\n",
       "      <th>0</th>\n",
       "      <td>boiler room ep 855 who watching watcher tune a...</td>\n",
       "      <td>0</td>\n",
       "    </tr>\n",
       "    <tr>\n",
       "      <th>1</th>\n",
       "      <td>australian senate reject proposed visa citizen...</td>\n",
       "      <td>1</td>\n",
       "    </tr>\n",
       "    <tr>\n",
       "      <th>2</th>\n",
       "      <td>boiler room ep 70 stick stone medium hammer tu...</td>\n",
       "      <td>0</td>\n",
       "    </tr>\n",
       "    <tr>\n",
       "      <th>3</th>\n",
       "      <td>charles koch brutally honest interview republi...</td>\n",
       "      <td>0</td>\n",
       "    </tr>\n",
       "    <tr>\n",
       "      <th>4</th>\n",
       "      <td>liberal loser scream america elector vote trum...</td>\n",
       "      <td>0</td>\n",
       "    </tr>\n",
       "  </tbody>\n",
       "</table>\n",
       "</div>"
      ],
      "text/plain": [
       "                                     cleaned_content  label\n",
       "0  boiler room ep 855 who watching watcher tune a...      0\n",
       "1  australian senate reject proposed visa citizen...      1\n",
       "2  boiler room ep 70 stick stone medium hammer tu...      0\n",
       "3  charles koch brutally honest interview republi...      0\n",
       "4  liberal loser scream america elector vote trum...      0"
      ]
     },
     "execution_count": 6,
     "metadata": {},
     "output_type": "execute_result"
    }
   ],
   "source": [
    "# Initialize\n",
    "stop_words = set(stopwords.words('english'))\n",
    "lemmatizer = WordNetLemmatizer()\n",
    "\n",
    "def clean_text(text):\n",
    "    text = text.lower()  # Lowercase\n",
    "    text = re.sub(r\"[^\\w\\s]\", \"\", text)  # Remove punctuation\n",
    "    words = re.findall(r\"\\b\\w+\\b\", text)  # Tokenize words using regex\n",
    "    words = [lemmatizer.lemmatize(word) for word in words if word not in stop_words]\n",
    "    return \" \".join(words)\n",
    "\n",
    "# Apply cleaning\n",
    "df['cleaned_content'] = df['content'].apply(clean_text)\n",
    "df = df[['cleaned_content', 'label']]\n",
    "df.head()"
   ]
  },
  {
   "cell_type": "code",
   "execution_count": 7,
   "id": "bdd5cecf",
   "metadata": {},
   "outputs": [],
   "source": [
    "# Split data\n",
    "X = df['cleaned_content']\n",
    "y = df['label']\n",
    "\n",
    "# Split into training and test sets\n",
    "X_train, X_test, y_train, y_test = train_test_split(X, y, test_size=0.2, random_state=42)\n",
    "\n",
    "# TF-IDF Vectorizer\n",
    "tfidf = TfidfVectorizer(max_features=5000)\n",
    "X_train_tfidf = tfidf.fit_transform(X_train)\n",
    "X_test_tfidf = tfidf.transform(X_test)\n"
   ]
  },
  {
   "cell_type": "code",
   "execution_count": 9,
   "id": "1a8fd7d2",
   "metadata": {},
   "outputs": [
    {
     "data": {
      "text/plain": [
       "['../models/tfidf_vectorizer.pkl']"
      ]
     },
     "execution_count": 9,
     "metadata": {},
     "output_type": "execute_result"
    }
   ],
   "source": [
    "model = LogisticRegression()\n",
    "model.fit(X_train_tfidf, y_train)\n",
    "\n",
    "# Save the model and vectorizer\n",
    "joblib.dump(model, '../models/logistic_model.pkl')\n",
    "joblib.dump(tfidf, '../models/tfidf_vectorizer.pkl')\n"
   ]
  },
  {
   "cell_type": "code",
   "execution_count": 10,
   "id": "ef50d267",
   "metadata": {},
   "outputs": [
    {
     "name": "stdout",
     "output_type": "stream",
     "text": [
      "Accuracy: 0.9880846325167038\n",
      "\n",
      "Classification Report:\n",
      "               precision    recall  f1-score   support\n",
      "\n",
      "           0       0.99      0.99      0.99      4677\n",
      "           1       0.99      0.99      0.99      4303\n",
      "\n",
      "    accuracy                           0.99      8980\n",
      "   macro avg       0.99      0.99      0.99      8980\n",
      "weighted avg       0.99      0.99      0.99      8980\n",
      "\n",
      "\n",
      "Confusion Matrix:\n",
      " [[4614   63]\n",
      " [  44 4259]]\n"
     ]
    }
   ],
   "source": [
    "y_pred = model.predict(X_test_tfidf)\n",
    "\n",
    "print(\"Accuracy:\", accuracy_score(y_test, y_pred))\n",
    "print(\"\\nClassification Report:\\n\", classification_report(y_test, y_pred))\n",
    "print(\"\\nConfusion Matrix:\\n\", confusion_matrix(y_test, y_pred))\n"
   ]
  },
  {
   "cell_type": "code",
   "execution_count": 11,
   "id": "3f497109",
   "metadata": {},
   "outputs": [
    {
     "name": "stdout",
     "output_type": "stream",
     "text": [
      "Fake\n"
     ]
    }
   ],
   "source": [
    "# Sample prediction\n",
    "def predict_news(text):\n",
    "    cleaned = clean_text(text)\n",
    "    vectorized = tfidf.transform([cleaned])\n",
    "    prediction = model.predict(vectorized)\n",
    "    return \"Real\" if prediction[0] == 1 else \"Fake\"\n",
    "\n",
    "sample_text = \"The prime minister announced a new vaccine today during the press conference.\"\n",
    "print(predict_news(sample_text))\n"
   ]
  },
  {
   "cell_type": "code",
   "execution_count": 13,
   "id": "a914e67c",
   "metadata": {},
   "outputs": [],
   "source": [
    "import pickle\n",
    "\n",
    "# Save the model\n",
    "with open(\"model.pkl\", \"wb\") as f:\n",
    "    pickle.dump(model, f)\n",
    "\n",
    "# Save the vectorizer (Tfidf or CountVectorizer)\n",
    "with open(\"vectorizer.pkl\", \"wb\") as f:\n",
    "    pickle.dump(tfidf, f)\n"
   ]
  }
 ],
 "metadata": {
  "kernelspec": {
   "display_name": "Python 3",
   "language": "python",
   "name": "python3"
  },
  "language_info": {
   "codemirror_mode": {
    "name": "ipython",
    "version": 3
   },
   "file_extension": ".py",
   "mimetype": "text/x-python",
   "name": "python",
   "nbconvert_exporter": "python",
   "pygments_lexer": "ipython3",
   "version": "3.12.5"
  }
 },
 "nbformat": 4,
 "nbformat_minor": 5
}
